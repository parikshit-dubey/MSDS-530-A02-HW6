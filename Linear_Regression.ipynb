{
 "cells": [
  {
   "cell_type": "code",
   "execution_count": 243,
   "id": "181dc6aa-c902-42d2-89e8-6b1dccac5b87",
   "metadata": {},
   "outputs": [],
   "source": [
    "# Import libraries\n",
    "\n",
    "import pandas as pd\n",
    "import numpy as np\n",
    "from sklearn.linear_model import LinearRegression\n",
    "from sklearn.model_selection import train_test_split\n",
    "from sklearn.preprocessing import LabelEncoder"
   ]
  },
  {
   "cell_type": "code",
   "execution_count": 244,
   "id": "630a6e92-b14e-4fd7-b6b0-8377334474d6",
   "metadata": {},
   "outputs": [],
   "source": [
    "# Read the data\n",
    "\n",
    "df = pd.read_csv(\"HW6_Iris_Dataset.csv\")"
   ]
  },
  {
   "cell_type": "code",
   "execution_count": 245,
   "id": "64c57da6-7f73-4232-a09a-57f3d32796bf",
   "metadata": {},
   "outputs": [
    {
     "name": "stdout",
     "output_type": "stream",
     "text": [
      "    sepalWidth  petalWidth sampleNum      irisSpecies\n",
      "0          3.5         0.2      id_1      Iris-setosa\n",
      "1          3.0         0.2      id_2      Iris-setosa\n",
      "2          3.6         0.2      id_5      Iris-setosa\n",
      "3          3.9         0.4      id_6      Iris-setosa\n",
      "4          3.4         0.3      id_7      Iris-setosa\n",
      "..         ...         ...       ...              ...\n",
      "95         3.4         1.6     id_86  Iris-versicolor\n",
      "96         2.3         1.3     id_88  Iris-versicolor\n",
      "97         3.0         1.4     id_92  Iris-versicolor\n",
      "98         2.7         1.3     id_95  Iris-versicolor\n",
      "99         2.8         1.3    id_100  Iris-versicolor\n",
      "\n",
      "[100 rows x 4 columns]\n"
     ]
    }
   ],
   "source": [
    "# Print the dataframe\n",
    "\n",
    "print(df)"
   ]
  },
  {
   "cell_type": "code",
   "execution_count": 246,
   "id": "aabe8a36-79ec-407a-9ae2-2285312f3197",
   "metadata": {},
   "outputs": [],
   "source": [
    "# Convert irisSpecies to numeric values\n",
    "\n",
    "df['irisSpecies'] = df['irisSpecies'].map({'Iris-setosa': 0, 'Iris-versicolor': 1})\n",
    "\n",
    "# Features and Target variable\n",
    "\n",
    "X = df[['sepalWidth', 'petalWidth']]\n",
    "y = df['irisSpecies']"
   ]
  },
  {
   "cell_type": "code",
   "execution_count": 247,
   "id": "515c8d32-7059-48f5-b6d5-5eb80d8b7a14",
   "metadata": {},
   "outputs": [
    {
     "name": "stdout",
     "output_type": "stream",
     "text": [
      "    sepalWidth  petalWidth\n",
      "0          3.5         0.2\n",
      "1          3.0         0.2\n",
      "2          3.6         0.2\n",
      "3          3.9         0.4\n",
      "4          3.4         0.3\n",
      "..         ...         ...\n",
      "95         3.4         1.6\n",
      "96         2.3         1.3\n",
      "97         3.0         1.4\n",
      "98         2.7         1.3\n",
      "99         2.8         1.3\n",
      "\n",
      "[100 rows x 2 columns]\n",
      "0     0\n",
      "1     0\n",
      "2     0\n",
      "3     0\n",
      "4     0\n",
      "     ..\n",
      "95    1\n",
      "96    1\n",
      "97    1\n",
      "98    1\n",
      "99    1\n",
      "Name: irisSpecies, Length: 100, dtype: int64\n",
      "    sepalWidth  petalWidth sampleNum  irisSpecies\n",
      "0          3.5         0.2      id_1            0\n",
      "1          3.0         0.2      id_2            0\n",
      "2          3.6         0.2      id_5            0\n",
      "3          3.9         0.4      id_6            0\n",
      "4          3.4         0.3      id_7            0\n",
      "..         ...         ...       ...          ...\n",
      "95         3.4         1.6     id_86            1\n",
      "96         2.3         1.3     id_88            1\n",
      "97         3.0         1.4     id_92            1\n",
      "98         2.7         1.3     id_95            1\n",
      "99         2.8         1.3    id_100            1\n",
      "\n",
      "[100 rows x 4 columns]\n"
     ]
    }
   ],
   "source": [
    "# Print features and Target variables\n",
    "\n",
    "print(X)\n",
    "print(y)\n",
    "\n",
    "print(df)\n"
   ]
  },
  {
   "cell_type": "code",
   "execution_count": 248,
   "id": "d12b5ccf-33f8-4c49-8263-9cfc8ca5fd30",
   "metadata": {},
   "outputs": [],
   "source": [
    "# Split train and test data\n",
    "X_train, X_test, y_train, y_test = train_test_split(X, y, test_size=0.25, random_state=40)"
   ]
  },
  {
   "cell_type": "code",
   "execution_count": 249,
   "id": "ddf864e8-b036-4415-9aff-cfad45cd629e",
   "metadata": {},
   "outputs": [],
   "source": [
    "# Create a linear regression model\n",
    "model = LinearRegression()"
   ]
  },
  {
   "cell_type": "code",
   "execution_count": 250,
   "id": "1d70d76e-c765-4041-8885-d56175f54ad5",
   "metadata": {},
   "outputs": [
    {
     "data": {
      "text/html": [
       "<style>#sk-container-id-16 {color: black;background-color: white;}#sk-container-id-16 pre{padding: 0;}#sk-container-id-16 div.sk-toggleable {background-color: white;}#sk-container-id-16 label.sk-toggleable__label {cursor: pointer;display: block;width: 100%;margin-bottom: 0;padding: 0.3em;box-sizing: border-box;text-align: center;}#sk-container-id-16 label.sk-toggleable__label-arrow:before {content: \"▸\";float: left;margin-right: 0.25em;color: #696969;}#sk-container-id-16 label.sk-toggleable__label-arrow:hover:before {color: black;}#sk-container-id-16 div.sk-estimator:hover label.sk-toggleable__label-arrow:before {color: black;}#sk-container-id-16 div.sk-toggleable__content {max-height: 0;max-width: 0;overflow: hidden;text-align: left;background-color: #f0f8ff;}#sk-container-id-16 div.sk-toggleable__content pre {margin: 0.2em;color: black;border-radius: 0.25em;background-color: #f0f8ff;}#sk-container-id-16 input.sk-toggleable__control:checked~div.sk-toggleable__content {max-height: 200px;max-width: 100%;overflow: auto;}#sk-container-id-16 input.sk-toggleable__control:checked~label.sk-toggleable__label-arrow:before {content: \"▾\";}#sk-container-id-16 div.sk-estimator input.sk-toggleable__control:checked~label.sk-toggleable__label {background-color: #d4ebff;}#sk-container-id-16 div.sk-label input.sk-toggleable__control:checked~label.sk-toggleable__label {background-color: #d4ebff;}#sk-container-id-16 input.sk-hidden--visually {border: 0;clip: rect(1px 1px 1px 1px);clip: rect(1px, 1px, 1px, 1px);height: 1px;margin: -1px;overflow: hidden;padding: 0;position: absolute;width: 1px;}#sk-container-id-16 div.sk-estimator {font-family: monospace;background-color: #f0f8ff;border: 1px dotted black;border-radius: 0.25em;box-sizing: border-box;margin-bottom: 0.5em;}#sk-container-id-16 div.sk-estimator:hover {background-color: #d4ebff;}#sk-container-id-16 div.sk-parallel-item::after {content: \"\";width: 100%;border-bottom: 1px solid gray;flex-grow: 1;}#sk-container-id-16 div.sk-label:hover label.sk-toggleable__label {background-color: #d4ebff;}#sk-container-id-16 div.sk-serial::before {content: \"\";position: absolute;border-left: 1px solid gray;box-sizing: border-box;top: 0;bottom: 0;left: 50%;z-index: 0;}#sk-container-id-16 div.sk-serial {display: flex;flex-direction: column;align-items: center;background-color: white;padding-right: 0.2em;padding-left: 0.2em;position: relative;}#sk-container-id-16 div.sk-item {position: relative;z-index: 1;}#sk-container-id-16 div.sk-parallel {display: flex;align-items: stretch;justify-content: center;background-color: white;position: relative;}#sk-container-id-16 div.sk-item::before, #sk-container-id-16 div.sk-parallel-item::before {content: \"\";position: absolute;border-left: 1px solid gray;box-sizing: border-box;top: 0;bottom: 0;left: 50%;z-index: -1;}#sk-container-id-16 div.sk-parallel-item {display: flex;flex-direction: column;z-index: 1;position: relative;background-color: white;}#sk-container-id-16 div.sk-parallel-item:first-child::after {align-self: flex-end;width: 50%;}#sk-container-id-16 div.sk-parallel-item:last-child::after {align-self: flex-start;width: 50%;}#sk-container-id-16 div.sk-parallel-item:only-child::after {width: 0;}#sk-container-id-16 div.sk-dashed-wrapped {border: 1px dashed gray;margin: 0 0.4em 0.5em 0.4em;box-sizing: border-box;padding-bottom: 0.4em;background-color: white;}#sk-container-id-16 div.sk-label label {font-family: monospace;font-weight: bold;display: inline-block;line-height: 1.2em;}#sk-container-id-16 div.sk-label-container {text-align: center;}#sk-container-id-16 div.sk-container {/* jupyter's `normalize.less` sets `[hidden] { display: none; }` but bootstrap.min.css set `[hidden] { display: none !important; }` so we also need the `!important` here to be able to override the default hidden behavior on the sphinx rendered scikit-learn.org. See: https://github.com/scikit-learn/scikit-learn/issues/21755 */display: inline-block !important;position: relative;}#sk-container-id-16 div.sk-text-repr-fallback {display: none;}</style><div id=\"sk-container-id-16\" class=\"sk-top-container\"><div class=\"sk-text-repr-fallback\"><pre>LinearRegression()</pre><b>In a Jupyter environment, please rerun this cell to show the HTML representation or trust the notebook. <br />On GitHub, the HTML representation is unable to render, please try loading this page with nbviewer.org.</b></div><div class=\"sk-container\" hidden><div class=\"sk-item\"><div class=\"sk-estimator sk-toggleable\"><input class=\"sk-toggleable__control sk-hidden--visually\" id=\"sk-estimator-id-16\" type=\"checkbox\" checked><label for=\"sk-estimator-id-16\" class=\"sk-toggleable__label sk-toggleable__label-arrow\">LinearRegression</label><div class=\"sk-toggleable__content\"><pre>LinearRegression()</pre></div></div></div></div></div>"
      ],
      "text/plain": [
       "LinearRegression()"
      ]
     },
     "execution_count": 250,
     "metadata": {},
     "output_type": "execute_result"
    }
   ],
   "source": [
    "# Fit the model to the training data\n",
    "model.fit(X_train, y_train)"
   ]
  },
  {
   "cell_type": "code",
   "execution_count": 251,
   "id": "dafe7091-40cd-4f67-a81f-f83ecc883009",
   "metadata": {},
   "outputs": [],
   "source": [
    "# Predict the target values \n",
    "y_pred = model.predict(X_test)"
   ]
  },
  {
   "cell_type": "code",
   "execution_count": 252,
   "id": "2feb8acd-befb-439f-94cc-098cbc182485",
   "metadata": {},
   "outputs": [
    {
     "name": "stdout",
     "output_type": "stream",
     "text": [
      "[ 0.14415629  0.0082134   0.9037825  -0.04575026  1.08227309  0.04920302\n",
      "  0.79897133  0.94477212  0.93491423  0.99873577  1.04958328  0.07047687\n",
      "  0.73514979  0.08189283  0.04920302  0.08189283  0.05906091 -0.0670241\n",
      " -0.06858218  0.91364038 -0.00320256  0.81868711  0.85137692  0.91364038\n",
      " -0.01306045]\n"
     ]
    }
   ],
   "source": [
    "# Print the target values\n",
    "print (y_pred)"
   ]
  },
  {
   "cell_type": "code",
   "execution_count": 253,
   "id": "df4dda54-a4f3-4e2f-a6a3-81b966cedd75",
   "metadata": {},
   "outputs": [
    {
     "name": "stdout",
     "output_type": "stream",
     "text": [
      "R-squared score: 0.9574938404213382\n"
     ]
    }
   ],
   "source": [
    "# Model performance evaluation\n",
    "print('R-squared score:', model.score(X_test, y_test))"
   ]
  },
  {
   "cell_type": "code",
   "execution_count": 254,
   "id": "f27deeed-78f7-48e1-bb44-c60a11866769",
   "metadata": {},
   "outputs": [
    {
     "name": "stdout",
     "output_type": "stream",
     "text": [
      "Coefficients of the model: [-0.21273847  0.73679428]\n"
     ]
    }
   ],
   "source": [
    "# Print the coefficients of the model\n",
    "print('Coefficients of the model:', model.coef_)"
   ]
  },
  {
   "cell_type": "code",
   "execution_count": 255,
   "id": "8dcee8bc-747d-4f1a-9fdf-42b3263b3955",
   "metadata": {},
   "outputs": [
    {
     "name": "stdout",
     "output_type": "stream",
     "text": [
      "Intercept of the model: 0.5727493815173694\n"
     ]
    }
   ],
   "source": [
    "# Print the intercept of the model\n",
    "print('Intercept of the model:', model.intercept_)"
   ]
  },
  {
   "cell_type": "code",
   "execution_count": null,
   "id": "5f1bb7f5-4a21-4096-8707-668e2028d09b",
   "metadata": {},
   "outputs": [],
   "source": []
  },
  {
   "cell_type": "code",
   "execution_count": null,
   "id": "b063dd8b-0d22-4b75-bb72-8d33f51be561",
   "metadata": {},
   "outputs": [],
   "source": []
  },
  {
   "cell_type": "code",
   "execution_count": null,
   "id": "3d0729c3-c60f-48c8-9923-275d33d3bd10",
   "metadata": {},
   "outputs": [],
   "source": []
  }
 ],
 "metadata": {
  "kernelspec": {
   "display_name": "Python 3 (ipykernel)",
   "language": "python",
   "name": "python3"
  },
  "language_info": {
   "codemirror_mode": {
    "name": "ipython",
    "version": 3
   },
   "file_extension": ".py",
   "mimetype": "text/x-python",
   "name": "python",
   "nbconvert_exporter": "python",
   "pygments_lexer": "ipython3",
   "version": "3.10.9"
  }
 },
 "nbformat": 4,
 "nbformat_minor": 5
}
